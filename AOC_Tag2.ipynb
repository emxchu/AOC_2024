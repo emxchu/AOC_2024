{
 "cells": [
  {
   "cell_type": "code",
   "execution_count": 279,
   "id": "5570eab9-8faa-420c-a5a7-c663a21011ca",
   "metadata": {},
   "outputs": [
    {
     "name": "stdout",
     "output_type": "stream",
     "text": [
      "328\n",
      "0\n"
     ]
    }
   ],
   "source": [
    "import re\n",
    "\n",
    "numbers = []\n",
    "with  open('AOC_2.txt', 'r') as f:\n",
    "    for line in f:\n",
    "        numbers_a = [int(n) for n in line.split()]\n",
    "        numbers.append(numbers_a)\n",
    "\n",
    "\n",
    "safe_lines = 0      \n",
    "non_safe_lines = 0\n",
    "\n",
    "def check_if_line_is_safe(list, safe_lines,non_safe_lines):\n",
    "    for i in list:\n",
    "        if i == sorted(i) or i == sorted(i, reverse=True):\n",
    "            if all(abs(i[index]-i[index+1]) <= 3 and abs(i[index]-i[index+1]) > 0 for index in range(len(i)-1)):\n",
    "                safe_lines+=1\n",
    "                continue\n",
    "        for l in range(len(i)):\n",
    "         new_list = i.copy()    \n",
    "         new_list.pop(l)\n",
    "         if new_list == sorted(new_list) or new_list == sorted(new_list, reverse=True):\n",
    "            if all(abs(new_list[index]-new_list[index+1]) <= 3 and abs(new_list[index]-new_list[index+1]) > 0 for index in range(len(new_list)-1)):\n",
    "                safe_lines+=1\n",
    "                non_safe_lines+=1\n",
    "                break\n",
    "\n",
    "    print(safe_lines)\n",
    "                    \n",
    " \n",
    "                \n",
    "\n",
    "\n",
    "check_if_line_is_safe(numbers, safe_lines,non_safe_lines)\n",
    "print(safe_lines)\n"
   ]
  },
  {
   "cell_type": "code",
   "execution_count": null,
   "id": "b9c12600-901b-4e24-a968-996e629826c0",
   "metadata": {},
   "outputs": [],
   "source": []
  },
  {
   "cell_type": "code",
   "execution_count": null,
   "id": "815d5779-b309-453b-9a5b-ac436303063a",
   "metadata": {},
   "outputs": [],
   "source": []
  },
  {
   "cell_type": "code",
   "execution_count": null,
   "id": "586ee88b-138b-4c92-9597-2d5093eb44b0",
   "metadata": {},
   "outputs": [],
   "source": []
  }
 ],
 "metadata": {
  "kernelspec": {
   "display_name": "Python 3 (ipykernel)",
   "language": "python",
   "name": "python3"
  },
  "language_info": {
   "codemirror_mode": {
    "name": "ipython",
    "version": 3
   },
   "file_extension": ".py",
   "mimetype": "text/x-python",
   "name": "python",
   "nbconvert_exporter": "python",
   "pygments_lexer": "ipython3",
   "version": "3.12.7"
  }
 },
 "nbformat": 4,
 "nbformat_minor": 5
}
